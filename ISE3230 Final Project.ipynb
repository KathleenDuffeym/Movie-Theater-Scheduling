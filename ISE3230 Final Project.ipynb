{
 "cells": [
  {
   "cell_type": "code",
   "execution_count": 3,
   "id": "955adc39-d65c-429e-a3a4-824e76e2459e",
   "metadata": {},
   "outputs": [
    {
     "name": "stdout",
     "output_type": "stream",
     "text": [
      "===============================================================================\n",
      "                                     CVXPY                                     \n",
      "                                     v1.5.3                                    \n",
      "===============================================================================\n",
      "(CVXPY) Nov 18 10:31:31 AM: Your problem has 2 variables, 3 constraints, and 0 parameters.\n",
      "(CVXPY) Nov 18 10:31:31 AM: It is compliant with the following grammars: DCP, DQCP\n",
      "(CVXPY) Nov 18 10:31:31 AM: (If you need to solve this problem multiple times, but with different data, consider using parameters.)\n",
      "(CVXPY) Nov 18 10:31:31 AM: CVXPY will first compile your problem; then, it will invoke a numerical solver to obtain a solution.\n",
      "(CVXPY) Nov 18 10:31:31 AM: Your problem is compiled with the CPP canonicalization backend.\n",
      "-------------------------------------------------------------------------------\n",
      "                                  Compilation                                  \n",
      "-------------------------------------------------------------------------------\n",
      "(CVXPY) Nov 18 10:31:31 AM: Compiling problem (target solver=GUROBI).\n",
      "(CVXPY) Nov 18 10:31:31 AM: Reduction chain: CvxAttr2Constr -> Qp2SymbolicQp -> QpMatrixStuffing -> GUROBI\n",
      "(CVXPY) Nov 18 10:31:31 AM: Applying reduction CvxAttr2Constr\n",
      "(CVXPY) Nov 18 10:31:31 AM: Applying reduction Qp2SymbolicQp\n",
      "(CVXPY) Nov 18 10:31:31 AM: Applying reduction QpMatrixStuffing\n",
      "(CVXPY) Nov 18 10:31:31 AM: Applying reduction GUROBI\n",
      "(CVXPY) Nov 18 10:31:31 AM: Finished problem compilation (took 1.658e-02 seconds).\n",
      "-------------------------------------------------------------------------------\n",
      "                                Numerical solver                               \n",
      "-------------------------------------------------------------------------------\n",
      "(CVXPY) Nov 18 10:31:31 AM: Invoking solver GUROBI  to obtain a solution.\n",
      "Set parameter QCPDual to value 1\n",
      "Gurobi Optimizer version 11.0.3 build v11.0.3rc0 (win64 - Windows 10.0 (19045.2))\n",
      "\n",
      "CPU model: Intel(R) Core(TM) i7-1065G7 CPU @ 1.30GHz, instruction set [SSE2|AVX|AVX2|AVX512]\n",
      "Thread count: 4 physical cores, 8 logical processors, using up to 8 threads\n",
      "\n",
      "Optimize a model with 5 rows, 2 columns and 7 nonzeros\n",
      "Model fingerprint: 0x1e60c79b\n",
      "Coefficient statistics:\n",
      "  Matrix range     [1e+00, 4e+01]\n",
      "  Objective range  [2e+01, 2e+01]\n",
      "  Bounds range     [0e+00, 0e+00]\n",
      "  RHS range        [1e+00, 1e+02]\n",
      "Presolve removed 3 rows and 0 columns\n",
      "Presolve time: 0.01s\n",
      "Presolved: 2 rows, 2 columns, 4 nonzeros\n",
      "\n",
      "Iteration    Objective       Primal Inf.    Dual Inf.      Time\n",
      "       0   -6.0000000e+01   6.000000e+00   0.000000e+00      0s\n",
      "       1   -5.5605634e+01   0.000000e+00   0.000000e+00      0s\n",
      "\n",
      "Solved in 1 iterations and 0.02 seconds (0.00 work units)\n",
      "Optimal objective -5.560563380e+01\n",
      "-------------------------------------------------------------------------------\n",
      "                                    Summary                                    \n",
      "-------------------------------------------------------------------------------\n",
      "(CVXPY) Nov 18 10:31:31 AM: Problem status: optimal\n",
      "(CVXPY) Nov 18 10:31:31 AM: Optimal value: -5.561e+01\n",
      "(CVXPY) Nov 18 10:31:31 AM: Compilation took 1.658e-02 seconds\n",
      "(CVXPY) Nov 18 10:31:31 AM: Solver (including time spent in interface) took 2.722e-02 seconds\n",
      "optimal objective value =\n",
      "-55.605633802816904\n",
      "x =\n",
      "[1.30985915 2.30985915]\n"
     ]
    }
   ],
   "source": [
    "import cvxpy as cp\n",
    "\n",
    "x = cp.Variable(2, nonneg = True)\n",
    "\n",
    "\n",
    "obj_func= -16*x[0]-15*x[1]\n",
    "\n",
    "constraints = []\n",
    "constraints.append(40*x[0]+31*x[1]<=124)\n",
    "constraints.append(-x[0]+x[1]<=1)\n",
    "constraints.append(x[0]<=3)\n",
    "\n",
    "problem = cp.Problem(cp.Minimize(obj_func), constraints)\n",
    "\n",
    "problem.solve(solver=cp.GUROBI,verbose = True)\n",
    "\n",
    "print(\"optimal objective value =\")\n",
    "print(obj_func.value)\n",
    "print(\"x =\")\n",
    "print(x.value)"
   ]
  },
  {
   "cell_type": "code",
   "execution_count": null,
   "id": "491477f8-8d17-4509-9aca-ce1635b6d536",
   "metadata": {},
   "outputs": [],
   "source": []
  }
 ],
 "metadata": {
  "kernelspec": {
   "display_name": "Python 3 (ipykernel)",
   "language": "python",
   "name": "python3"
  },
  "language_info": {
   "codemirror_mode": {
    "name": "ipython",
    "version": 3
   },
   "file_extension": ".py",
   "mimetype": "text/x-python",
   "name": "python",
   "nbconvert_exporter": "python",
   "pygments_lexer": "ipython3",
   "version": "3.12.5"
  }
 },
 "nbformat": 4,
 "nbformat_minor": 5
}
